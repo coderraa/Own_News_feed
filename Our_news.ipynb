{
 "cells": [
  {
   "cell_type": "code",
   "execution_count": 1,
   "metadata": {
    "colab": {},
    "colab_type": "code",
    "id": "aaoXVs6OEcvw"
   },
   "outputs": [
    {
     "name": "stdout",
     "output_type": "stream",
     "text": [
      "Processing c:\\users\\lenovo\\appdata\\local\\pip\\cache\\wheels\\8c\\69\\b7\\f52763c41c5471df57703a0ef718a32a5e81ee35dcf6d4f97f\\feedparser-5.2.1-cp37-none-any.whl\n",
      "Installing collected packages: feedparser\n",
      "Successfully installed feedparser-5.2.1\n"
     ]
    }
   ],
   "source": [
    "!pip install feedparser"
   ]
  },
  {
   "cell_type": "code",
   "execution_count": 2,
   "metadata": {
    "colab": {},
    "colab_type": "code",
    "id": "k3QU--CvEqtr"
   },
   "outputs": [
    {
     "name": "stdout",
     "output_type": "stream",
     "text": [
      "Collecting dateparser\n",
      "  Downloading dateparser-0.7.6-py2.py3-none-any.whl (362 kB)\n",
      "Collecting tzlocal\n",
      "  Downloading tzlocal-2.1-py2.py3-none-any.whl (16 kB)\n",
      "Collecting regex!=2019.02.19\n",
      "  Using cached regex-2020.6.8-cp37-cp37m-win_amd64.whl (268 kB)\n",
      "Requirement already satisfied: pytz in c:\\users\\lenovo\\anaconda3\\anaconda\\lib\\site-packages (from dateparser) (2019.3)\n",
      "Requirement already satisfied: python-dateutil in c:\\users\\lenovo\\anaconda3\\anaconda\\lib\\site-packages (from dateparser) (2.8.1)\n",
      "Requirement already satisfied: six>=1.5 in c:\\users\\lenovo\\anaconda3\\anaconda\\lib\\site-packages (from python-dateutil->dateparser) (1.14.0)\n",
      "Installing collected packages: tzlocal, regex, dateparser\n",
      "Successfully installed dateparser-0.7.6 regex-2020.6.8 tzlocal-2.1\n"
     ]
    }
   ],
   "source": [
    "!pip install dateparser"
   ]
  },
  {
   "cell_type": "code",
   "execution_count": 3,
   "metadata": {
    "colab": {},
    "colab_type": "code",
    "id": "-jDdTgxZ_n15"
   },
   "outputs": [],
   "source": [
    "import feedparser\n",
    "from bs4 import BeautifulSoup\n",
    "import urllib\n",
    "from dateparser import parse as parse_date\n",
    "import requests\n",
    "\n",
    "\n",
    "\n",
    "class NEWS:\n",
    "    def __init__(self, lang = 'en', country = 'US'):\n",
    "        self.lang = lang.lower()\n",
    "        self.country = country.upper()\n",
    "        self.BASE_URL = 'https://news.google.com/rss'\n",
    "\n",
    "    def __top_news_parser(self, text):\n",
    "        \"\"\"Return subarticles from the main and topic feeds\"\"\"\n",
    "        try:\n",
    "            bs4_html = BeautifulSoup(text, \"html.parser\")\n",
    "            # find all li tags\n",
    "            lis = bs4_html.find_all('li')\n",
    "            sub_articles = []\n",
    "            for li in lis:\n",
    "                try:\n",
    "                    sub_articles.append({\"url\": li.a['href'],\n",
    "                                         \"title\": li.a.text,\n",
    "                                         \"publisher\": li.font.text})\n",
    "                except:\n",
    "                    pass\n",
    "            return sub_articles\n",
    "        except:\n",
    "            return text\n",
    "\n",
    "    def __ceid(self):\n",
    "        \"\"\"Compile correct country-lang parameters for Google News RSS URL\"\"\"\n",
    "        return '?ceid={}:{}&hl={}&gl={}'.format(self.country,self.lang,self.lang,self.country)\n",
    "\n",
    "    def __add_sub_articles(self, entries):\n",
    "        for i, val in enumerate(entries):\n",
    "            if 'summary' in entries[i].keys():\n",
    "                entries[i]['sub_articles'] = self.__top_news_parser(entries[i]['summary'])\n",
    "            else:\n",
    "                entries[i]['sub_articles'] = None\n",
    "        return entries\n",
    "\n",
    "    def __scaping_bee_request(self, api_key, url):\n",
    "        response = requests.get(\n",
    "            url=\"https://app.scrapingbee.com/api/v1/\",\n",
    "            params={\n",
    "                \"api_key\": api_key,\n",
    "                \"url\": url,\n",
    "                \"render_js\": \"false\"\n",
    "            }\n",
    "        )\n",
    "        if response.status_code == 200:\n",
    "            return response\n",
    "        if response.status_code != 200:\n",
    "            raise Exception(\"ScrapingBee status_code: \"  + str(response.status_code) + \" \" + response.text)\n",
    "\n",
    "    def __parse_feed(self, feed_url, proxies=None, scraping_bee = None):\n",
    "\n",
    "        if scraping_bee and proxies:\n",
    "            raise Exception(\"Pick either ScrapingBee or proxies. Not both!\")\n",
    "\n",
    "        if proxies:\n",
    "            r = requests.get(feed_url, proxies = proxies)\n",
    "        else:\n",
    "            r = requests.get(feed_url)\n",
    "\n",
    "        if scraping_bee:\n",
    "            r = self.__scaping_bee_request(url = feed_url, api_key = scraping_bee)\n",
    "        else:\n",
    "            r = requests.get(feed_url)\n",
    "\n",
    "\n",
    "        if 'https://news.google.com/rss/unsupported' in r.url:\n",
    "            raise Exception('This feed is not available')\n",
    "\n",
    "        d = feedparser.parse(r.text)\n",
    "        return dict((k, d[k]) for k in ('feed', 'entries'))\n",
    "\n",
    "    def __search_helper(self, query):\n",
    "        return urllib.parse.quote_plus(query)\n",
    "\n",
    "    def __from_to_helper(self, validate=None):\n",
    "        try:\n",
    "            validate = parse_date(validate).strftime('%Y-%m-%d')\n",
    "            return str(validate)\n",
    "        except:\n",
    "            raise Exception('Could not parse your date')\n",
    "\n",
    "\n",
    "\n",
    "    def top_news(self, proxies=None, scraping_bee = None):\n",
    "        \"\"\"Return a list of all articles from the main page of Google News\n",
    "        given a country and a language\"\"\"\n",
    "        d = self.__parse_feed(self.BASE_URL + self.__ceid(), proxies=proxies, scraping_bee=scraping_bee)\n",
    "        d['entries'] = self.__add_sub_articles(d['entries'])\n",
    "        return d\n",
    "\n",
    "    def topic_headlines(self, topic: str, proxies=None, scraping_bee=None):\n",
    "        \"\"\"Return a list of all articles from the topic page of Google News\n",
    "        given a country and a language\"\"\"\n",
    "        #topic = topic.upper()\n",
    "        if topic.upper() in ['WORLD', 'NATION', 'BUSINESS', 'TECHNOLOGY', 'ENTERTAINMENT', 'SCIENCE', 'SPORTS', 'HEALTH']:\n",
    "            d = self.__parse_feed(self.BASE_URL + '/headlines/section/topic/{}'.format(topic.upper()) + self.__ceid(), proxies = proxies, scraping_bee=scraping_bee)\n",
    "\n",
    "        else:\n",
    "            d = self.__parse_feed(self.BASE_URL + '/topics/{}'.format(topic) + self.__ceid(), proxies = proxies, scraping_bee=scraping_bee)\n",
    "\n",
    "        d['entries'] = self.__add_sub_articles(d['entries'])\n",
    "        if len(d['entries']) > 0:\n",
    "            return d\n",
    "        else:\n",
    "            raise Exception('unsupported topic')\n",
    "\n",
    "    def geo_headlines(self, geo: str, proxies=None, scraping_bee=None):\n",
    "        \"\"\"Return a list of all articles about a specific geolocation\n",
    "        given a country and a language\"\"\"\n",
    "        d = self.__parse_feed(self.BASE_URL + '/headlines/section/geo/{}'.format(geo) + self.__ceid(), proxies = proxies, scraping_bee=scraping_bee)\n",
    "\n",
    "        d['entries'] = self.__add_sub_articles(d['entries'])\n",
    "        return d\n",
    "\n",
    "    def search(self, query: str, helper = True, when = None, from_ = None, to_ = None, proxies=None, scraping_bee=None):\n",
    "        \"\"\"\n",
    "        Return a list of all articles given a full-text search parameter,\n",
    "        a country and a language\n",
    "        :param bool helper: When True helps with URL quoting\n",
    "        :param str when: Sets a time range for the artiles that can be found\n",
    "        \"\"\"\n",
    "\n",
    "        if when:\n",
    "            query += ' when:' + when\n",
    "\n",
    "        if from_ and not when:\n",
    "            from_ = self.__from_to_helper(validate=from_)\n",
    "            query += ' after:' + from_\n",
    "\n",
    "        if to_ and not when:\n",
    "            to_ = self.__from_to_helper(validate=to_)\n",
    "            query += ' before:' + to_\n",
    "\n",
    "        if helper == True:\n",
    "            query = self.__search_helper(query)\n",
    "\n",
    "        search_ceid = self.__ceid()\n",
    "        search_ceid = search_ceid.replace('?', '&')\n",
    "\n",
    "        d = self.__parse_feed(self.BASE_URL + '/search?q={}'.format(query) + search_ceid, proxies = proxies, scraping_bee=scraping_bee)\n",
    "\n",
    "        d['entries'] = self.__add_sub_articles(d['entries'])\n",
    "        return d"
   ]
  },
  {
   "cell_type": "code",
   "execution_count": 4,
   "metadata": {
    "colab": {},
    "colab_type": "code",
    "id": "HxHYkmrjEzXu"
   },
   "outputs": [],
   "source": [
    "gn=NEWS()"
   ]
  },
  {
   "cell_type": "code",
   "execution_count": null,
   "metadata": {
    "colab": {},
    "colab_type": "code",
    "id": "4Q_GHo7gFLfF"
   },
   "outputs": [],
   "source": [
    "#print(gn.top_news())"
   ]
  },
  {
   "cell_type": "code",
   "execution_count": null,
   "metadata": {
    "colab": {},
    "colab_type": "code",
    "id": "QF5ppQr1FU4Q"
   },
   "outputs": [],
   "source": [
    "#gn.topic_headlines(\"sports\")"
   ]
  },
  {
   "cell_type": "code",
   "execution_count": null,
   "metadata": {
    "colab": {},
    "colab_type": "code",
    "id": "ucxp4DckFo42"
   },
   "outputs": [],
   "source": [
    "#gn.topic_headlines(topic=\"sports\")"
   ]
  },
  {
   "cell_type": "code",
   "execution_count": 5,
   "metadata": {
    "colab": {},
    "colab_type": "code",
    "id": "d0aAUMUOHLjy"
   },
   "outputs": [],
   "source": [
    "def TOPNEWS(N):\n",
    "    for i in range(0,N):\n",
    "        j=i+1\n",
    "        print(\"--------TOP NEWS %s----------\"%j)\n",
    "        print(gn.top_news()[\"entries\"][i][\"title\"])\n",
    "        print(\"\\n\")"
   ]
  },
  {
   "cell_type": "code",
   "execution_count": 6,
   "metadata": {
    "colab": {
     "base_uri": "https://localhost:8080/",
     "height": 847
    },
    "colab_type": "code",
    "id": "Ao6LIwA0MJD5",
    "outputId": "961ef7a2-89e3-404b-f30b-2d63d8701b01"
   },
   "outputs": [
    {
     "name": "stdout",
     "output_type": "stream",
     "text": [
      "--------TOP NEWS 1----------\n",
      "Trump attacks his own CDC scientists over how to reopen schools safely - USA TODAY\n",
      "\n",
      "\n",
      "--------TOP NEWS 2----------\n",
      "Juan Williams says Trump 'really came out on top' in Supreme Court ruling on tax documents - Fox News\n",
      "\n",
      "\n",
      "--------TOP NEWS 3----------\n",
      "Kazakhstan denies Chinese government report that country has 'unknown pneumonia' outbreak more deadly than Covid-19 - CNN\n",
      "\n",
      "\n",
      "--------TOP NEWS 4----------\n",
      "Mnuchin wants 'another round' of stimulus checks passed this month - New York Post\n",
      "\n",
      "\n",
      "--------TOP NEWS 5----------\n",
      "Who Is Keisha Lance Bottoms? Atlanta Mayor On Biden VP List - NPR\n",
      "\n",
      "\n",
      "--------TOP NEWS 6----------\n",
      "Goya’s CEO said the U.S. is ‘truly blessed’ with President Trump. Latinos are now boycotting. - The Washington Post\n",
      "\n",
      "\n",
      "--------TOP NEWS 7----------\n",
      "US Supreme Court rules half of Oklahoma is Native American land - BBC News\n",
      "\n",
      "\n",
      "--------TOP NEWS 8----------\n",
      "New audio brings detail to conflicting accounts of Breonna Taylor's killing - CNN\n",
      "\n",
      "\n",
      "--------TOP NEWS 9----------\n",
      "Like ‘a Bus Accident a Day’: Hospitals Strain Under New Flood of Covid-19 Patients - The New York Times\n",
      "\n",
      "\n",
      "--------TOP NEWS 10----------\n",
      "‘Big Mess’ Looms if Schools Don’t Get Billions to Reopen Safely - The New York Times\n",
      "\n",
      "\n",
      "--------TOP NEWS 11----------\n",
      "Seoul Mayor Park Won-soon found dead, left note saying 'sorry to all people' - USA TODAY\n",
      "\n",
      "\n",
      "--------TOP NEWS 12----------\n",
      "Georgia tries to avoid calamity, fix election problems - Atlanta Journal Constitution\n",
      "\n",
      "\n"
     ]
    }
   ],
   "source": [
    "TOPNEWS(12)"
   ]
  },
  {
   "cell_type": "code",
   "execution_count": 7,
   "metadata": {
    "colab": {},
    "colab_type": "code",
    "id": "tXz2MOZ9MoGI"
   },
   "outputs": [],
   "source": [
    "def HEADLINES(N,TOPIC):\n",
    "      for i in range(0,N):\n",
    "        j=i+1\n",
    "        print(\"--------%s NEWS %s----------\"%(TOPIC,j))\n",
    "        print(gn.topic_headlines(topic=TOPIC)[\"entries\"][i][\"title\"])\n",
    "        print(\"\\n\")"
   ]
  },
  {
   "cell_type": "code",
   "execution_count": 11,
   "metadata": {
    "colab": {
     "base_uri": "https://localhost:8080/",
     "height": 847
    },
    "colab_type": "code",
    "id": "AXNONOopH7v0",
    "outputId": "0549fe51-3c9c-4e2f-eb75-f7b5edfc2dbc"
   },
   "outputs": [
    {
     "name": "stdout",
     "output_type": "stream",
     "text": [
      "--------SPORTS NEWS 1----------\n",
      "Richard Sherman, other NFL players rip league health guidelines - Fox News\n",
      "\n",
      "\n",
      "--------SPORTS NEWS 2----------\n",
      "WATCH: UFC fighter Mike Perry uses racial slurs, throws punches at Lubbock, Texas, restaurant - KCBD\n",
      "\n",
      "\n",
      "--------SPORTS NEWS 3----------\n",
      "Reigning champions Seattle Sounders ready for teams' maximum effort at MLS is Back Tournament - MLSsoccer.com\n",
      "\n",
      "\n",
      "--------SPORTS NEWS 4----------\n",
      "Big Ten Statement on 2020-21 Fall Season - Big Ten Conference\n",
      "\n",
      "\n",
      "--------SPORTS NEWS 5----------\n",
      "Champions League DREAM draws! Which bracket provides the juiciest matchups? | ESPN FC - ESPN UK\n",
      "\n",
      "\n",
      "--------SPORTS NEWS 6----------\n",
      "Smoot on Darrell Green: 'Darrell will always be cornerback royalty' - ProBasketballTalk\n",
      "\n",
      "\n",
      "--------SPORTS NEWS 7----------\n",
      "MLB releases 2021 schedule: What to know about 162-game slate, including April 1 Opening Day - CBS Sports\n",
      "\n",
      "\n",
      "--------SPORTS NEWS 8----------\n",
      "Jewish NFL player reacts to anti-semitic posts by Desean Jackson - CNN\n",
      "\n",
      "\n",
      "--------SPORTS NEWS 9----------\n",
      "Ranking The Top 25 NBA Players In The Bubble - Sports Illustrated\n",
      "\n",
      "\n",
      "--------SPORTS NEWS 10----------\n",
      "Breaking down Patrick Mahomes' career at Texas Tech | Get Up - ESPN\n",
      "\n",
      "\n",
      "--------SPORTS NEWS 11----------\n",
      "UF-FSU game contract contains broad cancellation clause - 247Sports\n",
      "\n",
      "\n",
      "--------SPORTS NEWS 12----------\n",
      "Aston Villa v. Manchester United | PREMIER LEAGUE HIGHLIGHTS | 7/9/2020 | NBC Sports - NBC Sports\n",
      "\n",
      "\n"
     ]
    }
   ],
   "source": [
    "HEADLINES(12,\"SPORTS\")"
   ]
  },
  {
   "cell_type": "code",
   "execution_count": 8,
   "metadata": {
    "colab": {},
    "colab_type": "code",
    "id": "BE7zS6uhNash"
   },
   "outputs": [],
   "source": [
    "def LOCATIONNEWS(N,LOCATION):\n",
    "    for i in range(0,N):\n",
    "        j=i+1\n",
    "        print(\"--------%s NEWS %s----------\"%(LOCATION,j))\n",
    "        print(gn.geo_headlines(geo=LOCATION)[\"entries\"][i][\"title\"])\n",
    "        print(\"\\n\")"
   ]
  },
  {
   "cell_type": "code",
   "execution_count": 9,
   "metadata": {
    "colab": {
     "base_uri": "https://localhost:8080/",
     "height": 708
    },
    "colab_type": "code",
    "id": "TVzsVBBEPSRy",
    "outputId": "780250a1-cefb-4869-ebd6-3c528748efe7"
   },
   "outputs": [
    {
     "name": "stdout",
     "output_type": "stream",
     "text": [
      "--------INDIA NEWS 1----------\n",
      "Vikas Dubey: India police murder suspect shot dead after arrest - BBC News\n",
      "\n",
      "\n",
      "--------INDIA NEWS 2----------\n",
      "What Beijing Lost With Its Border Clash Blunder - The Wall Street Journal\n",
      "\n",
      "\n",
      "--------INDIA NEWS 3----------\n",
      "Coronavirus: Is India the next global hotspot? - BBC News\n",
      "\n",
      "\n",
      "--------INDIA NEWS 4----------\n",
      "These senior Indian couples found love again. Not everyone is happy about it - CNN\n",
      "\n",
      "\n",
      "--------INDIA NEWS 5----------\n",
      "New US visa rule leaves Indian, Chinese students in panic - Al Jazeera English\n",
      "\n",
      "\n",
      "--------INDIA NEWS 6----------\n",
      "India gold smuggling case sparks political row - BBC News\n",
      "\n",
      "\n",
      "--------INDIA NEWS 7----------\n",
      "Groom Dead, at Least 100 Sick With Coronavirus After Indian Wedding - The New York Times\n",
      "\n",
      "\n",
      "--------INDIA NEWS 8----------\n",
      "Pakistan invites India to file review against spy's conviction - Al Jazeera English\n",
      "\n",
      "\n",
      "--------INDIA NEWS 9----------\n",
      "India Surpasses Russia In Reported Coronavirus Infections : Coronavirus Live Updates - NPR\n",
      "\n",
      "\n",
      "--------INDIA NEWS 10----------\n",
      "'More than one million' died of snake bites in India - BBC News\n",
      "\n",
      "\n"
     ]
    }
   ],
   "source": [
    "LOCATIONNEWS(10,\"INDIA\")"
   ]
  },
  {
   "cell_type": "code",
   "execution_count": 10,
   "metadata": {
    "colab": {},
    "colab_type": "code",
    "id": "XVnsoFtlPvSR"
   },
   "outputs": [],
   "source": [
    "def QUERY(N,QUERY):\n",
    "      for i in range(0,N):\n",
    "        j=i+1\n",
    "        print(\"--------%s :NEWS RESULT %s----------\"%(QUERY,j))\n",
    "        print(gn.search(query=QUERY)[\"entries\"][i][\"title\"])\n",
    "        print(\"\\n\")"
   ]
  },
  {
   "cell_type": "code",
   "execution_count": 11,
   "metadata": {
    "colab": {
     "base_uri": "https://localhost:8080/",
     "height": 363
    },
    "colab_type": "code",
    "id": "RqTR7ZO9Qgr1",
    "outputId": "ffe23178-317b-4d38-e900-900129c36b72"
   },
   "outputs": [
    {
     "name": "stdout",
     "output_type": "stream",
     "text": [
      "--------WHERE IS INDIA IN CORONA :NEWS RESULT 1----------\n",
      "Coronavirus: Is India the next global hotspot? - BBC News\n",
      "\n",
      "\n",
      "--------WHERE IS INDIA IN CORONA :NEWS RESULT 2----------\n",
      "Coronavirus latest: US, India see new daily infection highs - DW (English)\n",
      "\n",
      "\n",
      "--------WHERE IS INDIA IN CORONA :NEWS RESULT 3----------\n",
      "Coronavirus live updates: Around 2.7 lakh tests being done daily, Harsh Vardhan says - Times of India\n",
      "\n",
      "\n",
      "--------WHERE IS INDIA IN CORONA :NEWS RESULT 4----------\n",
      "India Surpasses Russia In Reported Coronavirus Infections : Coronavirus Live Updates - NPR\n",
      "\n",
      "\n",
      "--------WHERE IS INDIA IN CORONA :NEWS RESULT 5----------\n",
      "Record single-day jump of 26,506 Covid-19 cases in India - Times of India\n",
      "\n",
      "\n"
     ]
    }
   ],
   "source": [
    "QUERY(5,\"WHERE IS INDIA IN CORONA\")"
   ]
  }
 ],
 "metadata": {
  "colab": {
   "collapsed_sections": [],
   "name": "Our_news.ipynb",
   "provenance": []
  },
  "kernelspec": {
   "display_name": "Python 3",
   "language": "python",
   "name": "python3"
  },
  "language_info": {
   "codemirror_mode": {
    "name": "ipython",
    "version": 3
   },
   "file_extension": ".py",
   "mimetype": "text/x-python",
   "name": "python",
   "nbconvert_exporter": "python",
   "pygments_lexer": "ipython3",
   "version": "3.7.6"
  }
 },
 "nbformat": 4,
 "nbformat_minor": 1
}
